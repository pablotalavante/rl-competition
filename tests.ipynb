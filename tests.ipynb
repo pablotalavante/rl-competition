{
 "cells": [
  {
   "cell_type": "code",
   "execution_count": 121,
   "metadata": {},
   "outputs": [],
   "source": [
    "from elopy import Implementation\n",
    "import numpy as np\n",
    "import copy\n",
    "\n",
    "ranking = Implementation()"
   ]
  },
  {
   "cell_type": "code",
   "execution_count": 122,
   "metadata": {},
   "outputs": [
    {
     "name": "stdout",
     "output_type": "stream",
     "text": [
      "884.7029441592626 900\n",
      "[('Hank', 884.7029441592626), ('Zill', 1015.2970558407375), ('Kank', 2000), ('482', 1223), ('125', 542), ('231', 1271), ('303', 1075), ('178', 1646), ('309', 1679), ('129', 1179), ('167', 1455), ('256', 1366), ('227', 1932), ('Hank', 1000), ('Bill', 900)]\n"
     ]
    }
   ],
   "source": [
    "i.addPlayer(\"Hank\") #default ranking is 1000\n",
    "i.addPlayer(\"Bill\", rating=900)\n",
    "\n",
    "print(i.getPlayerRating(\"Hank\"), i.getPlayerRating(\"Bill\"))\n",
    "\n",
    "#i.removePlayer(\"Hank\")\n",
    "\n",
    "print(i.getRatingList())"
   ]
  },
  {
   "cell_type": "code",
   "execution_count": 123,
   "metadata": {},
   "outputs": [],
   "source": [
    "i.recordMatch(\"Hank\", \"Bill\", winner=\"Hank\")"
   ]
  },
  {
   "cell_type": "code",
   "execution_count": 124,
   "metadata": {},
   "outputs": [
    {
     "name": "stdout",
     "output_type": "stream",
     "text": [
      "[('Hank', 1213.562956180405), ('Zill', 1015.2970558407375), ('Kank', 2000), ('482', 1223), ('125', 542), ('231', 1271), ('303', 1075), ('178', 1646), ('309', 1679), ('129', 1179), ('167', 1455), ('256', 1366), ('227', 1932), ('Hank', 1000), ('Bill', 571.1399879788576)]\n"
     ]
    }
   ],
   "source": [
    "print(i.getRatingList())"
   ]
  },
  {
   "cell_type": "code",
   "execution_count": 125,
   "metadata": {},
   "outputs": [],
   "source": [
    "i.recordMatch(\"Hank\", \"Bill\", winner=\"Bill\")"
   ]
  },
  {
   "cell_type": "code",
   "execution_count": 126,
   "metadata": {},
   "outputs": [
    {
     "name": "stdout",
     "output_type": "stream",
     "text": [
      "[('Hank', 598.7914280478133), ('Zill', 1015.2970558407375), ('Kank', 2000), ('482', 1223), ('125', 542), ('231', 1271), ('303', 1075), ('178', 1646), ('309', 1679), ('129', 1179), ('167', 1455), ('256', 1366), ('227', 1932), ('Hank', 1000), ('Bill', 1185.9115161114494)]\n"
     ]
    }
   ],
   "source": [
    "print(i.getRatingList())"
   ]
  },
  {
   "cell_type": "code",
   "execution_count": 127,
   "metadata": {},
   "outputs": [
    {
     "name": "stdout",
     "output_type": "stream",
     "text": [
      "1000 900\n",
      "[('Hank', 1196.5245101076248), ('Zill', 703.4754898923752), ('Kank', 2000), ('177', 570), ('189', 1549), ('104', 762), ('242', 576), ('228', 1902), ('490', 1399), ('194', 1059), ('376', 548), ('452', 1069), ('148', 618)]\n",
      "[('Hank', 624.2435696911467), ('Zill', 1275.7564303088534), ('Kank', 2000), ('177', 570), ('189', 1549), ('104', 762), ('242', 576), ('228', 1902), ('490', 1399), ('194', 1059), ('376', 548), ('452', 1069), ('148', 618)]\n",
      "[('Hank', 884.7029441592626), ('Zill', 1015.2970558407375), ('Kank', 2000), ('177', 570), ('189', 1549), ('104', 762), ('242', 576), ('228', 1902), ('490', 1399), ('194', 1059), ('376', 548), ('452', 1069), ('148', 618)]\n"
     ]
    }
   ],
   "source": [
    "from elopy import *\n",
    "\n",
    "i = Implementation()\n",
    "\n",
    "i.addPlayer(\"Hank\")\n",
    "i.addPlayer(\"Zill\",rating=900)\n",
    "i.addPlayer(\"Kank\", rating=2000)\n",
    "for _ in range(10):\n",
    "    i.addPlayer(str(np.random.randint(100, 500)), rating=np.random.randint(500, 2000))\n",
    "print( i.getPlayerRating(\"Hank\"), i.getPlayerRating(\"Zill\"))\n",
    "\n",
    "i.recordMatch(\"Hank\",\"Zill\",winner=\"Hank\")\n",
    "\n",
    "print( i.getRatingList())\n",
    "\n",
    "i.recordMatch(\"Hank\",\"Zill\",winner=\"Zill\")\n",
    "i.recordMatch(\"Hank\",\"Zill\",winner=\"Zill\")\n",
    "i.recordMatch(\"Hank\",\"Zill\",winner=\"Zill\")\n",
    "i.recordMatch(\"Hank\",\"Zill\",winner=\"Zill\")\n",
    "\n",
    "\n",
    "print( i.getRatingList())\n",
    "\n",
    "i.recordMatch(\"Hank\",\"Zill\",draw=True)\n",
    "\n",
    "print( i.getRatingList())"
   ]
  },
  {
   "cell_type": "code",
   "execution_count": 128,
   "metadata": {},
   "outputs": [
    {
     "name": "stdout",
     "output_type": "stream",
     "text": [
      "Kank : 2000\n",
      "228 : 1902\n",
      "189 : 1549\n",
      "490 : 1399\n",
      "452 : 1069\n",
      "194 : 1059\n",
      "Zill : 1015\n",
      "Hank : 885\n",
      "104 : 762\n",
      "148 : 618\n",
      "242 : 576\n",
      "177 : 570\n",
      "376 : 548\n"
     ]
    }
   ],
   "source": [
    "for p in sorted(i.getRatingList(), key = lambda test_list: test_list[1], reverse=True):\n",
    "    print(f'{p[0]} : {round(p[1])}')"
   ]
  },
  {
   "cell_type": "code",
   "execution_count": 139,
   "metadata": {},
   "outputs": [],
   "source": []
  },
  {
   "cell_type": "code",
   "execution_count": 143,
   "metadata": {},
   "outputs": [],
   "source": [
    "ordered = sorted(i.getRatingList(), key = lambda test_list: test_list[1])\n",
    "pairs = []\n",
    "while len(ordered)>1:\n",
    "    o_ = ordered[:6]\n",
    "    idx = np.random.choice(range(min(5, len(ordered))), 2, replace=False)\n",
    "    p1 = o_[idx[0]]\n",
    "    p2 = o_[idx[1]]\n",
    "    pairs.append([p1[0], p2[0]])\n",
    "    ordered.pop(ordered.index(p1))\n",
    "    ordered.pop(ordered.index(p2))"
   ]
  },
  {
   "cell_type": "code",
   "execution_count": 144,
   "metadata": {},
   "outputs": [
    {
     "data": {
      "text/plain": [
       "[['148', '376'],\n",
       " ['242', '177'],\n",
       " ['452', '194'],\n",
       " ['Zill', '490'],\n",
       " ['Kank', '104'],\n",
       " ['228', 'Hank']]"
      ]
     },
     "execution_count": 144,
     "metadata": {},
     "output_type": "execute_result"
    }
   ],
   "source": [
    "pairs"
   ]
  },
  {
   "cell_type": "code",
   "execution_count": 148,
   "metadata": {},
   "outputs": [
    {
     "name": "stdout",
     "output_type": "stream",
     "text": [
      "148 376\n",
      "242 177\n",
      "452 194\n",
      "Zill 490\n",
      "Kank 104\n",
      "228 Hank\n"
     ]
    }
   ],
   "source": [
    "for p1, p2 in pairs:\n",
    "    print(p1, p2)"
   ]
  },
  {
   "cell_type": "code",
   "execution_count": 91,
   "metadata": {},
   "outputs": [
    {
     "data": {
      "text/plain": [
       "array([2, 0])"
      ]
     },
     "execution_count": 91,
     "metadata": {},
     "output_type": "execute_result"
    }
   ],
   "source": [
    "np.random.choice(range(5), 2, replace=False)"
   ]
  },
  {
   "cell_type": "code",
   "execution_count": 78,
   "metadata": {},
   "outputs": [
    {
     "data": {
      "text/plain": [
       "[('484', 541),\n",
       " ('127', 863),\n",
       " ('Hank', 884.7029441592626),\n",
       " ('Zill', 1015.2970558407375),\n",
       " ('232', 1048),\n",
       " ('309', 1264)]"
      ]
     },
     "execution_count": 78,
     "metadata": {},
     "output_type": "execute_result"
    }
   ],
   "source": [
    "o_"
   ]
  },
  {
   "cell_type": "code",
   "execution_count": 61,
   "metadata": {},
   "outputs": [
    {
     "data": {
      "text/plain": [
       "[<elopy._Player at 0x1570c4017c8>,\n",
       " <elopy._Player at 0x1570c418c48>,\n",
       " <elopy._Player at 0x1570c3b1ac8>]"
      ]
     },
     "execution_count": 61,
     "metadata": {},
     "output_type": "execute_result"
    }
   ],
   "source": [
    "i.get_"
   ]
  },
  {
   "cell_type": "code",
   "execution_count": 149,
   "metadata": {},
   "outputs": [],
   "source": [
    "from league import League"
   ]
  },
  {
   "cell_type": "code",
   "execution_count": 150,
   "metadata": {},
   "outputs": [
    {
     "ename": "TypeError",
     "evalue": "__init__() missing 2 required positional arguments: 'game' and 'players_path'",
     "output_type": "error",
     "traceback": [
      "\u001b[1;31m---------------------------------------------------------------------------\u001b[0m",
      "\u001b[1;31mTypeError\u001b[0m                                 Traceback (most recent call last)",
      "\u001b[1;32m<ipython-input-150-0df894ecd741>\u001b[0m in \u001b[0;36m<module>\u001b[1;34m\u001b[0m\n\u001b[1;32m----> 1\u001b[1;33m \u001b[0mleague\u001b[0m \u001b[1;33m=\u001b[0m \u001b[0mLeague\u001b[0m\u001b[1;33m(\u001b[0m\u001b[1;33m)\u001b[0m\u001b[1;33m\u001b[0m\u001b[1;33m\u001b[0m\u001b[0m\n\u001b[0m",
      "\u001b[1;31mTypeError\u001b[0m: __init__() missing 2 required positional arguments: 'game' and 'players_path'"
     ]
    }
   ],
   "source": [
    "league = League()"
   ]
  },
  {
   "cell_type": "code",
   "execution_count": 152,
   "metadata": {},
   "outputs": [],
   "source": [
    "import gym"
   ]
  },
  {
   "cell_type": "code",
   "execution_count": 153,
   "metadata": {},
   "outputs": [
    {
     "data": {
      "text/plain": [
       "['ActionWrapper',\n",
       " 'Env',\n",
       " 'GoalEnv',\n",
       " 'ObservationWrapper',\n",
       " 'RewardWrapper',\n",
       " 'Space',\n",
       " 'Wrapper',\n",
       " '__all__',\n",
       " '__builtins__',\n",
       " '__cached__',\n",
       " '__doc__',\n",
       " '__file__',\n",
       " '__loader__',\n",
       " '__name__',\n",
       " '__package__',\n",
       " '__path__',\n",
       " '__spec__',\n",
       " '__version__',\n",
       " 'core',\n",
       " 'distutils',\n",
       " 'envs',\n",
       " 'error',\n",
       " 'logger',\n",
       " 'make',\n",
       " 'os',\n",
       " 'register',\n",
       " 'spaces',\n",
       " 'spec',\n",
       " 'sys',\n",
       " 'utils',\n",
       " 'vector',\n",
       " 'version',\n",
       " 'warnings']"
      ]
     },
     "execution_count": 153,
     "metadata": {},
     "output_type": "execute_result"
    }
   ],
   "source": [
    "dir(gym)"
   ]
  },
  {
   "cell_type": "code",
   "execution_count": 157,
   "metadata": {},
   "outputs": [],
   "source": [
    "env = gym.Env()"
   ]
  },
  {
   "cell_type": "code",
   "execution_count": 159,
   "metadata": {},
   "outputs": [
    {
     "data": {
      "text/plain": [
       "<gym.core.Env at 0x1570e7fa288>"
      ]
     },
     "execution_count": 159,
     "metadata": {},
     "output_type": "execute_result"
    }
   ],
   "source": [
    "env"
   ]
  },
  {
   "cell_type": "code",
   "execution_count": 158,
   "metadata": {},
   "outputs": [
    {
     "ename": "NotImplementedError",
     "evalue": "",
     "output_type": "error",
     "traceback": [
      "\u001b[1;31m---------------------------------------------------------------------------\u001b[0m",
      "\u001b[1;31mNotImplementedError\u001b[0m                       Traceback (most recent call last)",
      "\u001b[1;32m<ipython-input-158-d9761596d5d9>\u001b[0m in \u001b[0;36m<module>\u001b[1;34m\u001b[0m\n\u001b[1;32m----> 1\u001b[1;33m \u001b[0menv\u001b[0m\u001b[1;33m.\u001b[0m\u001b[0mrender\u001b[0m\u001b[1;33m(\u001b[0m\u001b[1;33m)\u001b[0m\u001b[1;33m\u001b[0m\u001b[1;33m\u001b[0m\u001b[0m\n\u001b[0m",
      "\u001b[1;32m~\\AppData\\Local\\Continuum\\anaconda3\\envs\\rl-pytorch\\lib\\site-packages\\gym\\core.py\u001b[0m in \u001b[0;36mrender\u001b[1;34m(self, mode)\u001b[0m\n\u001b[0;32m    103\u001b[0m                     \u001b[0msuper\u001b[0m\u001b[1;33m(\u001b[0m\u001b[0mMyEnv\u001b[0m\u001b[1;33m,\u001b[0m \u001b[0mself\u001b[0m\u001b[1;33m)\u001b[0m\u001b[1;33m.\u001b[0m\u001b[0mrender\u001b[0m\u001b[1;33m(\u001b[0m\u001b[0mmode\u001b[0m\u001b[1;33m=\u001b[0m\u001b[0mmode\u001b[0m\u001b[1;33m)\u001b[0m \u001b[1;31m# just raise an exception\u001b[0m\u001b[1;33m\u001b[0m\u001b[1;33m\u001b[0m\u001b[0m\n\u001b[0;32m    104\u001b[0m         \"\"\"\n\u001b[1;32m--> 105\u001b[1;33m         \u001b[1;32mraise\u001b[0m \u001b[0mNotImplementedError\u001b[0m\u001b[1;33m\u001b[0m\u001b[1;33m\u001b[0m\u001b[0m\n\u001b[0m\u001b[0;32m    106\u001b[0m \u001b[1;33m\u001b[0m\u001b[0m\n\u001b[0;32m    107\u001b[0m     \u001b[1;32mdef\u001b[0m \u001b[0mclose\u001b[0m\u001b[1;33m(\u001b[0m\u001b[0mself\u001b[0m\u001b[1;33m)\u001b[0m\u001b[1;33m:\u001b[0m\u001b[1;33m\u001b[0m\u001b[1;33m\u001b[0m\u001b[0m\n",
      "\u001b[1;31mNotImplementedError\u001b[0m: "
     ]
    }
   ],
   "source": [
    "env.render()"
   ]
  },
  {
   "cell_type": "code",
   "execution_count": null,
   "metadata": {},
   "outputs": [],
   "source": []
  }
 ],
 "metadata": {
  "kernelspec": {
   "display_name": "Python 3",
   "language": "python",
   "name": "python3"
  },
  "language_info": {
   "codemirror_mode": {
    "name": "ipython",
    "version": 3
   },
   "file_extension": ".py",
   "mimetype": "text/x-python",
   "name": "python",
   "nbconvert_exporter": "python",
   "pygments_lexer": "ipython3",
   "version": "3.7.6"
  }
 },
 "nbformat": 4,
 "nbformat_minor": 2
}
